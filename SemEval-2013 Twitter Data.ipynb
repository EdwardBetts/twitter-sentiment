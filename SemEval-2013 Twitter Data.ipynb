{
 "metadata": {
  "name": ""
 },
 "nbformat": 3,
 "nbformat_minor": 0,
 "worksheets": [
  {
   "cells": [
    {
     "cell_type": "heading",
     "level": 1,
     "metadata": {},
     "source": [
      "SemEval-2013 Twitter Data"
     ]
    },
    {
     "cell_type": "markdown",
     "metadata": {},
     "source": [
      "This notebook is for capturing code snippets and analysis results of twitter data exploration performed directly on my data repository, in this case, a `MongoDB` database. Let us begin by retrieving the collection of labeled tweets."
     ]
    },
    {
     "cell_type": "code",
     "collapsed": false,
     "input": [
      "from pymongo import MongoClient\n",
      "\n",
      "client = MongoClient()\n",
      "db = client.twitter_database\n",
      "db_labeled_tweets = db.labeled_tweets"
     ],
     "language": "python",
     "metadata": {},
     "outputs": [],
     "prompt_number": 2
    },
    {
     "cell_type": "heading",
     "level": 2,
     "metadata": {},
     "source": [
      "Relationship between `in_reply_to_(status|user)_id` fields in tweets and whether it begins with an *@mention*"
     ]
    },
    {
     "cell_type": "markdown",
     "metadata": {},
     "source": [
      "I want to look at the number of tweets are direct replies to a status"
     ]
    },
    {
     "cell_type": "code",
     "collapsed": false,
     "input": [
      "db_labeled_tweets.find({u'in_reply_to_status_id': {'$ne': None}}).count()"
     ],
     "language": "python",
     "metadata": {},
     "outputs": [
      {
       "metadata": {},
       "output_type": "pyout",
       "prompt_number": 3,
       "text": [
        "1528"
       ]
      }
     ],
     "prompt_number": 3
    },
    {
     "cell_type": "markdown",
     "metadata": {},
     "source": [
      "What's interesting is that there are replies to a user that aren't necessarily replies to a particular status id"
     ]
    },
    {
     "cell_type": "code",
     "collapsed": false,
     "input": [
      "db_labeled_tweets.find({u'in_reply_to_user_id': {'$ne': None}}).count()"
     ],
     "language": "python",
     "metadata": {},
     "outputs": [
      {
       "metadata": {},
       "output_type": "pyout",
       "prompt_number": 7,
       "text": [
        "2170"
       ]
      }
     ],
     "prompt_number": 7
    },
    {
     "cell_type": "code",
     "collapsed": false,
     "input": [
      "db_labeled_tweets.find({u'in_reply_to_status_id': None, u'in_reply_to_user_id': {'$ne': None}}).count()"
     ],
     "language": "python",
     "metadata": {},
     "outputs": [
      {
       "metadata": {},
       "output_type": "pyout",
       "prompt_number": 9,
       "text": [
        "642"
       ]
      }
     ],
     "prompt_number": 9
    },
    {
     "cell_type": "markdown",
     "metadata": {},
     "source": [
      "And furthermore, a tweet beginning with an *@mention* is not always considered a reply to user *or* status"
     ]
    },
    {
     "cell_type": "code",
     "collapsed": false,
     "input": [
      "db_labeled_tweets.find({u'text': {'$regex': '^ ?@'}, u'in_reply_to_status_id': None, u'in_reply_to_user_id': None}).count()"
     ],
     "language": "python",
     "metadata": {},
     "outputs": [
      {
       "metadata": {},
       "output_type": "pyout",
       "prompt_number": 19,
       "text": [
        "94"
       ]
      }
     ],
     "prompt_number": 19
    },
    {
     "cell_type": "markdown",
     "metadata": {},
     "source": [
      "Of course, a tweet *not* beginning with an *@mention* can still be a reply to user or status"
     ]
    },
    {
     "cell_type": "code",
     "collapsed": false,
     "input": [
      "db_labeled_tweets.find({u'text': {'$regex': '^ ?[^@]'}, u'in_reply_to_status_id': {'$ne': None}}).count()"
     ],
     "language": "python",
     "metadata": {},
     "outputs": [
      {
       "metadata": {},
       "output_type": "pyout",
       "prompt_number": 21,
       "text": [
        "36"
       ]
      }
     ],
     "prompt_number": 21
    },
    {
     "cell_type": "code",
     "collapsed": false,
     "input": [
      "db_labeled_tweets.find({u'text': {'$regex': '^ ?[^@]'}, u'in_reply_to_user_id': {'$ne': None}}).count()"
     ],
     "language": "python",
     "metadata": {},
     "outputs": [
      {
       "metadata": {},
       "output_type": "pyout",
       "prompt_number": 22,
       "text": [
        "45"
       ]
      }
     ],
     "prompt_number": 22
    },
    {
     "cell_type": "markdown",
     "metadata": {},
     "source": [
      "My point is that we can't simply use the `in_reply_to_user_id` or `in_reply_to_status_id` given by the Twitter API as an indicator of whether or not the tweet is directed at someone particular, though in most cases it is. We may use `in_reply_to_status_id` if we wish to retrieve the tweet that the current tweet is in reply to. Otherwise, we need to use regular expressions to determine whether a tweet is directed."
     ]
    },
    {
     "cell_type": "code",
     "collapsed": false,
     "input": [],
     "language": "python",
     "metadata": {},
     "outputs": []
    }
   ],
   "metadata": {}
  }
 ]
}