{
 "metadata": {
  "name": ""
 },
 "nbformat": 3,
 "nbformat_minor": 0,
 "worksheets": [
  {
   "cells": [
    {
     "cell_type": "markdown",
     "metadata": {},
     "source": [
      "Non-standard orthography, capitalization and abbreviation.\n",
      "\n",
      "> ikr smh he asked for yo last name o he can add u on fb lololol\n",
      "\n",
      "Translated to plain English as:\n",
      "\n",
      "> I know right - shaking my head - he asked for your last name so he can add you on Facebook. \n",
      "\n",
      "Can humans do it?\n",
      "\n",
      "> I don't know half of you half as well as I should like; and I like less than half of you half as well as you deserve."
     ]
    },
    {
     "cell_type": "markdown",
     "metadata": {},
     "source": [
      "> We know that the number of grammatical English sentences is theoretically infinite...\n",
      "\n",
      "> However, in practice we humans care to make only a finite number of distinctions. For many tasks, once we have a billion or so examples, we essentially have a closed set that represents (or at least approximates) what we need, without generative rules. "
     ]
    },
    {
     "cell_type": "code",
     "collapsed": false,
     "input": [
      "from data import load_semeval\n",
      "twitter_data = list(load_semeval(subtask='b', subset='all'))"
     ],
     "language": "python",
     "metadata": {},
     "outputs": [],
     "prompt_number": 5
    },
    {
     "cell_type": "code",
     "collapsed": false,
     "input": [
      "import regex\n",
      "\n",
      "def pattern_features_dict(pattern, string, *fn_names, **funcs):\n",
      "    # Just another way of asking: isinstance(pattern, regex._pattern_type)\n",
      "    try:\n",
      "        matches = list(pattern.finditer(string))\n",
      "    except AttributeError:\n",
      "        matches = list(regex.finditer(pattern, string))\n",
      "\n",
      "    pairs = []    \n",
      "    \n",
      "    for fn_name, fn in funcs.items():\n",
      "        pairs.append((fn_name, fn(matches))) \n",
      "    \n",
      "    for fn_name in fn_names:\n",
      "        fn = get_match_func(fn_name)\n",
      "        pairs.append((fn_name, fn(matches)))\n",
      "    \n",
      "    return dict(pairs)"
     ],
     "language": "python",
     "metadata": {},
     "outputs": [],
     "prompt_number": 119
    },
    {
     "cell_type": "code",
     "collapsed": false,
     "input": [
      "pattern_features_dict(r'\\?', 'is this real life?', 'count', 'start_pos')"
     ],
     "language": "python",
     "metadata": {},
     "outputs": [
      {
       "metadata": {},
       "output_type": "pyout",
       "prompt_number": 121,
       "text": [
        "{'count': 1, 'start_pos': 17}"
       ]
      }
     ],
     "prompt_number": 121
    },
    {
     "cell_type": "code",
     "collapsed": false,
     "input": [
      "class Bunch(dict):\n",
      "    \n",
      "    def __init__(self, *args, **kwargs):\n",
      "        self.update(*args, **kwargs)\n",
      "        self.__dict__ = self\n",
      "\n",
      "class TweetWrapper(Bunch):\n",
      "    \n",
      "    def __init__(self, *args, **kwargs):\n",
      "        super(TweetWrapper, self).__init__(*args, **kwargs)\n",
      "        self.wordtokens = self.text.split()\n",
      "\n",
      "    def extract(self, *features):\n",
      "        result = {}\n",
      "        for feature_name in features:\n",
      "            feature = getattr(self, feature_name, {})\n",
      "            if isinstance(feature, dict):\n",
      "                feature = prefix_dict_keys(feature, feature_name)\n",
      "                result.update(feature)\n",
      "            else:\n",
      "                result[feature_name] = feature\n",
      "        return result\n",
      "\n",
      "    @property\n",
      "    def char_count(self):\n",
      "        return len(self.text)\n",
      "    \n",
      "    @property\n",
      "    def question_mark(self):\n",
      "        return pattern_features_dict(r'\\?', self.text, 'count')"
     ],
     "language": "python",
     "metadata": {},
     "outputs": [],
     "prompt_number": 147
    },
    {
     "cell_type": "code",
     "collapsed": false,
     "input": [
      "def prefix_dict_keys(d, prefix):\n",
      "    for k in d.keys():\n",
      "        d['_'.join((prefix, k))] = d.pop(k)\n",
      "    return d"
     ],
     "language": "python",
     "metadata": {},
     "outputs": [],
     "prompt_number": 124
    },
    {
     "cell_type": "code",
     "collapsed": false,
     "input": [
      "from sklearn.base import BaseEstimator, TransformerMixin\n",
      "\n",
      "class TweetFeaturesExtractor(BaseEstimator, TransformerMixin):\n",
      "    \n",
      "    def fit(self, X=None, y=None, features=None):\n",
      "        self.features = features\n",
      "        return self\n",
      "    \n",
      "    def transform(self, X, y=None):\n",
      "        return [TweetWrapper(x).extract(*self.features) for x in X]"
     ],
     "language": "python",
     "metadata": {},
     "outputs": [],
     "prompt_number": 155
    },
    {
     "cell_type": "code",
     "collapsed": false,
     "input": [
      "vect = TweetFeaturesExtractor()"
     ],
     "language": "python",
     "metadata": {},
     "outputs": [],
     "prompt_number": 156
    },
    {
     "cell_type": "code",
     "collapsed": false,
     "input": [
      "vect.fit_transform(twitter_data[50:60], features=['question_mark'])"
     ],
     "language": "python",
     "metadata": {},
     "outputs": [
      {
       "metadata": {},
       "output_type": "pyout",
       "prompt_number": 158,
       "text": [
        "[{'question_mark_count': 0},\n",
        " {'question_mark_count': 1},\n",
        " {'question_mark_count': 0},\n",
        " {'question_mark_count': 0},\n",
        " {'question_mark_count': 0},\n",
        " {'question_mark_count': 0},\n",
        " {'question_mark_count': 0},\n",
        " {'question_mark_count': 0},\n",
        " {'question_mark_count': 0},\n",
        " {'question_mark_count': 0}]"
       ]
      }
     ],
     "prompt_number": 158
    },
    {
     "cell_type": "code",
     "collapsed": false,
     "input": [
      "t = TweetWrapper(twitter_data[50])"
     ],
     "language": "python",
     "metadata": {},
     "outputs": [],
     "prompt_number": 152
    },
    {
     "cell_type": "code",
     "collapsed": false,
     "input": [
      "t.extract('char_count', 'question_mark')"
     ],
     "language": "python",
     "metadata": {},
     "outputs": [
      {
       "metadata": {},
       "output_type": "pyout",
       "prompt_number": 154,
       "text": [
        "{'char_count': 67, 'question_mark_count': 0}"
       ]
      }
     ],
     "prompt_number": 154
    },
    {
     "cell_type": "code",
     "collapsed": false,
     "input": [
      "def match_start(match_objects, n):\n",
      "    try:\n",
      "        return match_objects[n].start()\n",
      "    except IndexError:\n",
      "        return -1\n",
      "\n",
      "import six\n",
      "    \n",
      "def get_match_func(func):\n",
      "    if isinstance(func, six.string_types):\n",
      "        try:\n",
      "            func = MATCH_FUNCS[func]\n",
      "        except KeyError:\n",
      "            raise ValueError('{0} is not a valid scoring value. Valid options are {1}'.format(func, sorted(MATCH_FUNCS.keys())))        \n",
      "    return func \n",
      "\n",
      "\n",
      "MATCH_FUNCS = dict(\n",
      "                 count=lambda m: len(m),\n",
      "                 start_pos=lambda m: match_start(m, 0)\n",
      "                    )"
     ],
     "language": "python",
     "metadata": {},
     "outputs": [],
     "prompt_number": 117
    },
    {
     "cell_type": "code",
     "collapsed": false,
     "input": [
      "get_match_func('coudnt')"
     ],
     "language": "python",
     "metadata": {},
     "outputs": [
      {
       "ename": "ValueError",
       "evalue": "coudnt is not a valid scoring value. Valid options are ['count', 'start_pos']",
       "output_type": "pyerr",
       "traceback": [
        "\u001b[0;31m---------------------------------------------------------------------------\u001b[0m\n\u001b[0;31mValueError\u001b[0m                                Traceback (most recent call last)",
        "\u001b[0;32m<ipython-input-123-c948fbf62321>\u001b[0m in \u001b[0;36m<module>\u001b[0;34m()\u001b[0m\n\u001b[0;32m----> 1\u001b[0;31m \u001b[0mget_match_func\u001b[0m\u001b[0;34m(\u001b[0m\u001b[0;34m'coudnt'\u001b[0m\u001b[0;34m)\u001b[0m\u001b[0;34m\u001b[0m\u001b[0m\n\u001b[0m",
        "\u001b[0;32m<ipython-input-117-77f5ffc265e8>\u001b[0m in \u001b[0;36mget_match_func\u001b[0;34m(func)\u001b[0m\n\u001b[1;32m     12\u001b[0m             \u001b[0mfunc\u001b[0m \u001b[0;34m=\u001b[0m \u001b[0mMATCH_FUNCS\u001b[0m\u001b[0;34m[\u001b[0m\u001b[0mfunc\u001b[0m\u001b[0;34m]\u001b[0m\u001b[0;34m\u001b[0m\u001b[0m\n\u001b[1;32m     13\u001b[0m         \u001b[0;32mexcept\u001b[0m \u001b[0mKeyError\u001b[0m\u001b[0;34m:\u001b[0m\u001b[0;34m\u001b[0m\u001b[0m\n\u001b[0;32m---> 14\u001b[0;31m             \u001b[0;32mraise\u001b[0m \u001b[0mValueError\u001b[0m\u001b[0;34m(\u001b[0m\u001b[0;34m'{0} is not a valid scoring value. Valid options are {1}'\u001b[0m\u001b[0;34m.\u001b[0m\u001b[0mformat\u001b[0m\u001b[0;34m(\u001b[0m\u001b[0mfunc\u001b[0m\u001b[0;34m,\u001b[0m \u001b[0msorted\u001b[0m\u001b[0;34m(\u001b[0m\u001b[0mMATCH_FUNCS\u001b[0m\u001b[0;34m.\u001b[0m\u001b[0mkeys\u001b[0m\u001b[0;34m(\u001b[0m\u001b[0;34m)\u001b[0m\u001b[0;34m)\u001b[0m\u001b[0;34m)\u001b[0m\u001b[0;34m)\u001b[0m\u001b[0;34m\u001b[0m\u001b[0m\n\u001b[0m\u001b[1;32m     15\u001b[0m     \u001b[0;32mreturn\u001b[0m \u001b[0mfunc\u001b[0m\u001b[0;34m\u001b[0m\u001b[0m\n\u001b[1;32m     16\u001b[0m \u001b[0;34m\u001b[0m\u001b[0m\n",
        "\u001b[0;31mValueError\u001b[0m: coudnt is not a valid scoring value. Valid options are ['count', 'start_pos']"
       ]
      }
     ],
     "prompt_number": 123
    },
    {
     "cell_type": "code",
     "collapsed": false,
     "input": [
      "import six\n"
     ],
     "language": "python",
     "metadata": {},
     "outputs": [],
     "prompt_number": 116
    },
    {
     "cell_type": "code",
     "collapsed": false,
     "input": [],
     "language": "python",
     "metadata": {},
     "outputs": []
    }
   ],
   "metadata": {}
  }
 ]
}