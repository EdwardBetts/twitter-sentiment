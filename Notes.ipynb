{
 "metadata": {
  "name": ""
 },
 "nbformat": 3,
 "nbformat_minor": 0,
 "worksheets": [
  {
   "cells": [
    {
     "cell_type": "markdown",
     "metadata": {},
     "source": [
      "Non-standard orthography, capitalization and abbreviation.\n",
      "\n",
      "> ikr smh he asked for yo last name o he can add u on fb lololol\n",
      "\n",
      "Translated to plain English as:\n",
      "\n",
      "> I know right - shaking my head - he asked for your last name so he can add you on Facebook. \n",
      "\n",
      "Can humans do it?\n",
      "\n",
      "> I don't know half of you half as well as I should like; and I like less than half of you half as well as you deserve."
     ]
    },
    {
     "cell_type": "code",
     "collapsed": false,
     "input": [],
     "language": "python",
     "metadata": {},
     "outputs": []
    }
   ],
   "metadata": {}
  }
 ]
}